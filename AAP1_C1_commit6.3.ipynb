{
  "nbformat": 4,
  "nbformat_minor": 0,
  "metadata": {
    "colab": {
      "provenance": []
    },
    "kernelspec": {
      "name": "python3",
      "display_name": "Python 3"
    },
    "language_info": {
      "name": "python"
    }
  },
  "cells": [
    {
      "cell_type": "markdown",
      "source": [
        "# **1.- Predicciones**\n"
      ],
      "metadata": {
        "id": "44SgcKTNMnep"
      }
    },
    {
      "cell_type": "markdown",
      "source": [
        "## 1.1- Importar el modelo"
      ],
      "metadata": {
        "id": "CG3q7dvyqZPe"
      }
    },
    {
      "cell_type": "code",
      "source": [
        "from joblib import load\n",
        "from google.colab import drive\n",
        "from google.colab import files\n",
        "drive.mount('/content/drive', force_remount=True)"
      ],
      "metadata": {
        "colab": {
          "base_uri": "https://localhost:8080/"
        },
        "id": "LSPj4sZiqhql",
        "outputId": "2d394c9b-9112-457f-cf06-a2f8926314e4"
      },
      "execution_count": null,
      "outputs": [
        {
          "output_type": "stream",
          "name": "stdout",
          "text": [
            "Mounted at /content/drive\n"
          ]
        }
      ]
    },
    {
      "cell_type": "code",
      "source": [
        "import pandas as pd\n",
        "import re\n",
        "\n",
        "# Cargamos el modelo y los datos de competicion\n",
        "modelo_lasso = load('/content/drive/MyDrive/AA_P1_Grupo10/modelo_final.pkl')\n",
        "df = pd.read_csv(\"/content/drive/MyDrive/AA_P1_Grupo10/wind_comp.csv\")\n",
        "\n",
        "# Eliminamos los atributos que no hemos utilizado en el entrenamiento\n",
        "# y son innecesarios\n",
        "patron = r'.*\\.13$'\n",
        "columnas_a_mantener = []\n",
        "for column in df.columns:\n",
        "  if column == \"datetime\" or column == \"energy\":\n",
        "    columnas_a_mantener.append(column)\n",
        "  if re.match(patron, column):\n",
        "    columnas_a_mantener.append(column)\n",
        "df = df[columnas_a_mantener]\n",
        "columnas_a_eliminar = ['datetime', 'p55.162.13', 'stl4.13', 'cape.13']\n",
        "nuevos_datos = df.drop(columns=columnas_a_eliminar)\n",
        "print(len(nuevos_datos.columns))"
      ],
      "metadata": {
        "colab": {
          "base_uri": "https://localhost:8080/"
        },
        "id": "cB_WgnO19jVH",
        "outputId": "c0185abd-428d-45c2-a6f4-cf8c7efdaa96"
      },
      "execution_count": null,
      "outputs": [
        {
          "output_type": "stream",
          "name": "stdout",
          "text": [
            "19\n"
          ]
        }
      ]
    },
    {
      "cell_type": "markdown",
      "source": [
        "Ahora vamos a predecir los datos de salida"
      ],
      "metadata": {
        "id": "ptMC2LlTAi3V"
      }
    },
    {
      "cell_type": "code",
      "source": [
        "# Hacer las predicciones\n",
        "predicciones = modelo_lasso.predict(nuevos_datos)\n",
        "\n",
        "# Crear un DataFrame con las predicciones\n",
        "df_predicciones = pd.DataFrame(predicciones, columns=['predicciones'])\n",
        "\n",
        "# Guardar el DataFrame en un archivo CSV\n",
        "df_predicciones.to_csv('/content/drive/MyDrive/AA_P1_Grupo10/predicciones.csv', index=False)"
      ],
      "metadata": {
        "id": "poK2sQjiAmS2"
      },
      "execution_count": null,
      "outputs": []
    }
  ]
}